{
 "cells": [
  {
   "cell_type": "code",
   "execution_count": 1,
   "metadata": {},
   "outputs": [],
   "source": [
    "import pandas as pd\n",
    "import os\n",
    "from nltk.sentiment.vader import SentimentIntensityAnalyzer"
   ]
  },
  {
   "cell_type": "code",
   "execution_count": 5,
   "metadata": {},
   "outputs": [],
   "source": [
    "#conv_df = pd.read_excel('FINAL_cmbd_conv.xlsx')\n",
    "conv_df = pd.read_csv('FINAL_cmbd_conv.csv')"
   ]
  },
  {
   "cell_type": "code",
   "execution_count": 6,
   "metadata": {},
   "outputs": [
    {
     "data": {
      "text/html": [
       "<div>\n",
       "<style scoped>\n",
       "    .dataframe tbody tr th:only-of-type {\n",
       "        vertical-align: middle;\n",
       "    }\n",
       "\n",
       "    .dataframe tbody tr th {\n",
       "        vertical-align: top;\n",
       "    }\n",
       "\n",
       "    .dataframe thead th {\n",
       "        text-align: right;\n",
       "    }\n",
       "</style>\n",
       "<table border=\"1\" class=\"dataframe\">\n",
       "  <thead>\n",
       "    <tr style=\"text-align: right;\">\n",
       "      <th></th>\n",
       "      <th>Unnamed: 0</th>\n",
       "      <th>file_study_id</th>\n",
       "      <th>speaker</th>\n",
       "      <th>speech_agg</th>\n",
       "    </tr>\n",
       "  </thead>\n",
       "  <tbody>\n",
       "    <tr>\n",
       "      <th>0</th>\n",
       "      <td>1</td>\n",
       "      <td>100019-BB</td>\n",
       "      <td>clinician</td>\n",
       "      <td>Okay. Why’d you have a rough week? Whoa. Nothi...</td>\n",
       "    </tr>\n",
       "    <tr>\n",
       "      <th>1</th>\n",
       "      <td>2</td>\n",
       "      <td>100019-BB</td>\n",
       "      <td>patient</td>\n",
       "      <td>I’m having trouble breathing too. Last Thursda...</td>\n",
       "    </tr>\n",
       "    <tr>\n",
       "      <th>2</th>\n",
       "      <td>3</td>\n",
       "      <td>10103201-MAR</td>\n",
       "      <td>clinician</td>\n",
       "      <td>What's going on since then? Mmhmm. What has yo...</td>\n",
       "    </tr>\n",
       "    <tr>\n",
       "      <th>3</th>\n",
       "      <td>4</td>\n",
       "      <td>10103201-MAR</td>\n",
       "      <td>patient</td>\n",
       "      <td>Uhhuh. My leg and my back are killing me. I've...</td>\n",
       "    </tr>\n",
       "    <tr>\n",
       "      <th>4</th>\n",
       "      <td>5</td>\n",
       "      <td>101037-BB</td>\n",
       "      <td>clinician</td>\n",
       "      <td>Um hum. Um hum. Um hum. Yeah. Sometimes. They ...</td>\n",
       "    </tr>\n",
       "  </tbody>\n",
       "</table>\n",
       "</div>"
      ],
      "text/plain": [
       "   Unnamed: 0 file_study_id    speaker  \\\n",
       "0           1     100019-BB  clinician   \n",
       "1           2     100019-BB    patient   \n",
       "2           3  10103201-MAR  clinician   \n",
       "3           4  10103201-MAR    patient   \n",
       "4           5     101037-BB  clinician   \n",
       "\n",
       "                                          speech_agg  \n",
       "0  Okay. Why’d you have a rough week? Whoa. Nothi...  \n",
       "1  I’m having trouble breathing too. Last Thursda...  \n",
       "2  What's going on since then? Mmhmm. What has yo...  \n",
       "3  Uhhuh. My leg and my back are killing me. I've...  \n",
       "4  Um hum. Um hum. Um hum. Yeah. Sometimes. They ...  "
      ]
     },
     "execution_count": 6,
     "metadata": {},
     "output_type": "execute_result"
    }
   ],
   "source": [
    "conv_df.head(\n",
    ")"
   ]
  },
  {
   "cell_type": "code",
   "execution_count": 8,
   "metadata": {},
   "outputs": [],
   "source": [
    "analyzer = SentimentIntensityAnalyzer()\n",
    "conv_df['compound'] = [analyzer.polarity_scores(str(x))['compound'] for x in conv_df['speech_agg']]\n",
    "conv_df['neg'] = [analyzer.polarity_scores(str(x))['neg'] for x in conv_df['speech_agg']]\n",
    "conv_df['pos'] = [analyzer.polarity_scores(str(x))['pos'] for x in conv_df['speech_agg']]\n",
    "conv_df['neu'] = [analyzer.polarity_scores(str(x))['neu'] for x in conv_df['speech_agg']]"
   ]
  },
  {
   "cell_type": "code",
   "execution_count": 9,
   "metadata": {},
   "outputs": [],
   "source": [
    "conv_df.to_csv('FINAL_cmbd_conv_VADERED.csv')"
   ]
  }
 ],
 "metadata": {
  "kernelspec": {
   "display_name": "Python 3",
   "language": "python",
   "name": "python3"
  },
  "language_info": {
   "codemirror_mode": {
    "name": "ipython",
    "version": 3
   },
   "file_extension": ".py",
   "mimetype": "text/x-python",
   "name": "python",
   "nbconvert_exporter": "python",
   "pygments_lexer": "ipython3",
   "version": "3.11.3"
  }
 },
 "nbformat": 4,
 "nbformat_minor": 2
}
